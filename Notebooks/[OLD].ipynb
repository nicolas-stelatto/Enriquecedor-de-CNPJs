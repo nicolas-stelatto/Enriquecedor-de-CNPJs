{
 "cells": [
  {
   "cell_type": "markdown",
   "id": "fac710bf",
   "metadata": {},
   "source": [
    "# Objetivo do código\n",
    "Enriquecer uma base de até 700 CNPJs com pontos, barras e traços, enviados por meio de um arquivo CSV para adicionar informações de data de abertura, natureza jurídica, capital social, faturamento estimado, porte, código da atividade primária, código da atividade secundária 1, código da atividade secundária 2, código da atividade secundária 3, ..., código da atividade secundária 99.\n",
    "\n",
    "# Como o código funciona\n",
    "Usaremos a base de informações de CNPJ da API da receita federal pelo link https://www.receitaws.com.br/v1/cnpj/{cnpj}. A API é gratúita mas tem limitação de 720 solicitações por dia e até 3 consultas por segundo por IP. Portanto, usaremos a biblioteca Time para não realizar todas as solicitações de uma só vez\n",
    "\n",
    "\n",
    "# Resultado do código\n",
    "Uma planilha CSV com a informação de CNPJ, data de abertura, natureza jurídica, capital social, faturamento estimado, porte, código da atividade primária, código da atividade secundária 1, código da atividade secundária 2, código da atividade secundária 3, ..., código da atividade secundária 99."
   ]
  },
  {
   "cell_type": "markdown",
   "id": "89443609",
   "metadata": {},
   "source": [
    "**Código abaixo:**\n",
    "Importe as bibliotecas necessárias: pandas para ler o arquivo CSV com os CNPJs, requests para fazer as chamadas à API, time para esperar um intervalo entre as chamadas"
   ]
  },
  {
   "cell_type": "code",
   "execution_count": 41,
   "id": "9450ad31",
   "metadata": {},
   "outputs": [],
   "source": [
    "import pandas as pd\n",
    "import requests\n",
    "import time\n",
    "from datetime import datetime, timedelta\n",
    "import os"
   ]
  },
  {
   "cell_type": "markdown",
   "id": "6a89c7d7",
   "metadata": {},
   "source": [
    "**Código abaixo:**\n",
    "Defina a URL base da API do ReceitaWS e o token de acesso."
   ]
  },
  {
   "cell_type": "code",
   "execution_count": 42,
   "id": "f37eb434",
   "metadata": {},
   "outputs": [],
   "source": [
    "url_base = 'https://www.receitaws.com.br/v1/cnpj/'\n",
    "token = 'SEU TOKEN AQUI'\n",
    "headers = {'Authorization': 'Bearer ' + token}"
   ]
  },
  {
   "cell_type": "markdown",
   "id": "68403552",
   "metadata": {},
   "source": [
    "**Código abaixo:**\n",
    "Fazer um teste se a requisição está funcionando"
   ]
  },
  {
   "cell_type": "code",
   "execution_count": 43,
   "id": "c44369e5",
   "metadata": {},
   "outputs": [
    {
     "data": {
      "text/plain": [
       "<Response [200]>"
      ]
     },
     "execution_count": 43,
     "metadata": {},
     "output_type": "execute_result"
    }
   ],
   "source": [
    "cnpj_1 = '36073794000160'\n",
    "test_response = requests.get(url_base + cnpj_1, headers)\n",
    "test_response"
   ]
  },
  {
   "cell_type": "markdown",
   "id": "43e272f8",
   "metadata": {},
   "source": [
    "**Código abaixo:**\n",
    "Cria um caminho absoluto para o arquivo de entrada e um caminho absoluto para o arquivo de saída"
   ]
  },
  {
   "cell_type": "code",
   "execution_count": 44,
   "id": "c914b9fc",
   "metadata": {},
   "outputs": [],
   "source": [
    "# Obter o diretório atual de trabalho do notebook voltando 1x para o diretório pai\n",
    "dir_path = os.path.abspath(os.path.join(os.getcwd(), os.pardir))\n",
    "\n",
    "# construir o caminho absoluto para o arquivo de entrada\n",
    "input_path = os.path.join(dir_path, 'arquivos_entrada', 'cnpjs_bruto.csv')\n",
    "\n",
    "# construir o caminho absoluto para o arquivo de saída\n",
    "output_path = os.path.join(dir_path, 'arquivos_saida', 'cnpjs_enriquecidos.csv')"
   ]
  },
  {
   "cell_type": "markdown",
   "id": "2538e928",
   "metadata": {},
   "source": [
    "**Código abaixo:**\n",
    "Ler arquivo CSV e armazenar os CNPJs em uma lista"
   ]
  },
  {
   "cell_type": "code",
   "execution_count": 45,
   "id": "e15aebbf",
   "metadata": {},
   "outputs": [],
   "source": [
    "path = '/Users/nicolasstelatto/Energizou Dropbox/Nicolas Stelatto/Mac/Documents/Python Notebooks/Enrich CNPJs/Dados Brutos/CNPJs para testar.csv'\n",
    "cnpjs_df = pd.read_csv(input_path, delimiter = \";\")\n",
    "cnpjs_list = list(cnpjs_df['CNPJs'])"
   ]
  },
  {
   "cell_type": "markdown",
   "id": "747ed0ea",
   "metadata": {},
   "source": [
    "**Código abaixo:**\n",
    "Criar função **clean_cnpj** para limpar o cnpj com barras e pontos e retornar uma string somente com os números"
   ]
  },
  {
   "cell_type": "code",
   "execution_count": 46,
   "id": "44a17116",
   "metadata": {},
   "outputs": [],
   "source": [
    "def clean_cnpj(cnpj):\n",
    "    step1 = cnpj.replace('.', '').replace('/', '').replace('-', '')\n",
    "    if len(step1) < 14:\n",
    "        step2 = step1.zfill(14)\n",
    "        return step2\n",
    "    else:\n",
    "        return step1"
   ]
  },
  {
   "cell_type": "markdown",
   "id": "b6a27a1a",
   "metadata": {},
   "source": [
    "**Código abaixo:**\n",
    "Cria uma lista com os CNPJs limpos chamanda **cnpjs_list_clean**"
   ]
  },
  {
   "cell_type": "code",
   "execution_count": 47,
   "id": "f45929f4",
   "metadata": {},
   "outputs": [
    {
     "data": {
      "text/plain": [
       "['32190231000100',\n",
       " '07852102000184',\n",
       " '36619769000130',\n",
       " '36583766000193',\n",
       " '08773135000100',\n",
       " '63310411001418',\n",
       " '19675900000167',\n",
       " '17838938000188',\n",
       " '45985371000108',\n",
       " '08014346000150']"
      ]
     },
     "execution_count": 47,
     "metadata": {},
     "output_type": "execute_result"
    }
   ],
   "source": [
    "cnpjs_list_clean = []\n",
    "for element in cnpjs_list:\n",
    "    cnpjs_list_clean.append(clean_cnpj(element))\n",
    "cnpjs_list_clean"
   ]
  },
  {
   "cell_type": "markdown",
   "id": "104027e8",
   "metadata": {},
   "source": [
    "**Código abaixo:**\n",
    "Cria a função **consultar_cnpj** que faz a solicitação para a API por meio de um CNPJ especificado e retorna uma lista com todas as informações relevantes daquele CNPJ.\n",
    "\n",
    "Essa função segue também a estrutura de que ela só irá ser executada se o tempo da última request e o tempo de request atual for maior ou igual a 20 segundos. Se for menor, usamos uma função que espera até que chegue em 20 segundos. Usamos essa regra para que não tenha problemas com a API, dado que o limite são 3 requisições por minuto."
   ]
  },
  {
   "cell_type": "code",
   "execution_count": 54,
   "id": "1e8ddbb5",
   "metadata": {},
   "outputs": [],
   "source": [
    "last_request_time = None # variável global para armazenar o último momento em que uma requisição foi enviada\n",
    "def consultar_cnpj(cnpj):\n",
    "    global last_request_time    # indicando que estamos usando a variável global\n",
    "    \n",
    "    # Define o intervalo de tempo mínimo entre requisições (em segundos)\n",
    "    request_interval = 30\n",
    "    \n",
    "    # Se é a primeira requisição, seta o last_request_time para o momento atual\n",
    "    if not last_request_time:\n",
    "        last_request_time = time.time()\n",
    "    else:\n",
    "        # Calcula o tempo decorrido desde a última requisição\n",
    "        elapsed_time = time.time() - last_request_time\n",
    "        \n",
    "        # Verifica se o tempo decorrido é menor que o intervalo mínimo entre requisições\n",
    "        if elapsed_time < request_interval:\n",
    "            # Se for menor, pausa a execução do código pelo tempo restante necessário\n",
    "            time.sleep(request_interval - elapsed_time)\n",
    "        \n",
    "        # Atualiza o last_request_time com o momento atual\n",
    "        last_request_time = time.time()\n",
    "    \n",
    "    \n",
    "    \n",
    "    #código da requisição aqui\n",
    "    url = url_base + cnpj\n",
    "    response = requests.get(url, headers=headers)\n",
    "    \n",
    "    if response.status_code == 200:\n",
    "        data = response.json()\n",
    "        \n",
    "        cnpj = data['cnpj']\n",
    "        abertura = data['abertura']\n",
    "        situacao = data['situacao']\n",
    "        tipo = data['tipo']\n",
    "        nome = data['nome']\n",
    "        porte = data['porte']\n",
    "        uf = data['uf']\n",
    "        capital_social = data['capital_social']\n",
    "        status = data['status']\n",
    "        natureza_juridica = data['natureza_juridica']\n",
    "        atividade_principal = data['atividade_principal'][0]['code']\n",
    "        \n",
    "        atividade_secundaria = []\n",
    "        for atividade in data['atividades_secundarias']:\n",
    "            atividade_secundaria.append(atividade['code'])\n",
    "        \n",
    "        while len(atividade_secundaria) < 99:\n",
    "            atividade_secundaria.append(None)\n",
    "        \n",
    "        return cnpj, abertura, situacao, tipo, nome, porte, uf, capital_social, status, natureza_juridica, atividade_principal, *atividade_secundaria\n",
    " \n",
    "    else:\n",
    "        return None"
   ]
  },
  {
   "cell_type": "markdown",
   "id": "88b7b693",
   "metadata": {},
   "source": [
    "**Código abaixo:**\n",
    "Cria uma lista de listas vazia para armazenar as informações de todas as empresas.\n",
    "Cria um loop que itera sobre a lista de CNPJs para chamar a função criada anteriormente e salvar a lista de informações na variável empresas. Ele imprime o valor de CNPJ de cada requisição para garantir que o Loop está funcionando"
   ]
  },
  {
   "cell_type": "code",
   "execution_count": 53,
   "id": "04c7e9ab",
   "metadata": {},
   "outputs": [
    {
     "name": "stdout",
     "output_type": "stream",
     "text": [
      "32.190.231/0001-00\n",
      "07.852.102/0001-84\n",
      "36.619.769/0001-30\n",
      "36.583.766/0001-93\n",
      "08.773.135/0001-00\n",
      "63.310.411/0014-18\n",
      "19.675.900/0001-67\n",
      "17.838.938/0001-88\n",
      "45.985.371/0001-08\n",
      "08.014.346/0001-50\n"
     ]
    }
   ],
   "source": [
    "empresas = []\n",
    "for cnpj in cnpjs_list_clean:\n",
    "    # Faz a consulta à API\n",
    "    info = consultar_cnpj(cnpj)\n",
    "    if info:\n",
    "        empresas.append(info)\n",
    "        print(info[0])"
   ]
  },
  {
   "cell_type": "markdown",
   "id": "45a4a271",
   "metadata": {},
   "source": [
    "**Código abaixo:**\n",
    "Salva as informações em um DataFrame e em um novo arquivo CSV no Desktop do Mac"
   ]
  },
  {
   "cell_type": "code",
   "execution_count": null,
   "id": "ece7790f",
   "metadata": {
    "scrolled": true
   },
   "outputs": [],
   "source": [
    "empresas_df = pd.DataFrame(empresas, columns=['cnpj', 'data_abertura', 'situacao_fiscal', 'tipo', 'razao_social', 'porte', 'uf', 'capital_social', 'status', 'natureza_juridica', 'atividade_principal', 'atividade_secundaria_1', 'atividade_secundaria_2', 'atividade_secundaria_3', 'atividade_secundaria_4', 'atividade_secundaria_5', 'atividade_secundaria_6', 'atividade_secundaria_7', 'atividade_secundaria_8', 'atividade_secundaria_9', 'atividade_secundaria_10', 'atividade_secundaria_11', 'atividade_secundaria_12', 'atividade_secundaria_13', 'atividade_secundaria_14', 'atividade_secundaria_15', 'atividade_secundaria_16', 'atividade_secundaria_17', 'atividade_secundaria_18', 'atividade_secundaria_19', 'atividade_secundaria_20', 'atividade_secundaria_21', 'atividade_secundaria_22', 'atividade_secundaria_23', 'atividade_secundaria_24', 'atividade_secundaria_25', 'atividade_secundaria_26', 'atividade_secundaria_27', 'atividade_secundaria_28', 'atividade_secundaria_29', 'atividade_secundaria_30', 'atividade_secundaria_31', 'atividade_secundaria_32', 'atividade_secundaria_33', 'atividade_secundaria_34', 'atividade_secundaria_35', 'atividade_secundaria_36', 'atividade_secundaria_37', 'atividade_secundaria_38', 'atividade_secundaria_39', 'atividade_secundaria_40', 'atividade_secundaria_41', 'atividade_secundaria_42', 'atividade_secundaria_43', 'atividade_secundaria_44', 'atividade_secundaria_45', 'atividade_secundaria_46', 'atividade_secundaria_47', 'atividade_secundaria_48', 'atividade_secundaria_49', 'atividade_secundaria_50', 'atividade_secundaria_51', 'atividade_secundaria_52', 'atividade_secundaria_53', 'atividade_secundaria_54', 'atividade_secundaria_55', 'atividade_secundaria_56', 'atividade_secundaria_57', 'atividade_secundaria_58', 'atividade_secundaria_59', 'atividade_secundaria_60', 'atividade_secundaria_61', 'atividade_secundaria_62', 'atividade_secundaria_63', 'atividade_secundaria_64', 'atividade_secundaria_65', 'atividade_secundaria_66', 'atividade_secundaria_67', 'atividade_secundaria_68', 'atividade_secundaria_69', 'atividade_secundaria_70', 'atividade_secundaria_71', 'atividade_secundaria_72', 'atividade_secundaria_73', 'atividade_secundaria_74', 'atividade_secundaria_75', 'atividade_secundaria_76', 'atividade_secundaria_77', 'atividade_secundaria_78', 'atividade_secundaria_79', 'atividade_secundaria_80', 'atividade_secundaria_81', 'atividade_secundaria_82', 'atividade_secundaria_83', 'atividade_secundaria_84', 'atividade_secundaria_85', 'atividade_secundaria_86', 'atividade_secundaria_87', 'atividade_secundaria_88', 'atividade_secundaria_89', 'atividade_secundaria_90', 'atividade_secundaria_91', 'atividade_secundaria_92', 'atividade_secundaria_93', 'atividade_secundaria_94', 'atividade_secundaria_95', 'atividade_secundaria_96', 'atividade_secundaria_97', 'atividade_secundaria_98', 'atividade_secundaria_99'])\n",
    "\n",
    "# Salva as informações em um arquivo CSV\n",
    "empresas_df.to_csv(output_path, sep=';', index=False)"
   ]
  }
 ],
 "metadata": {
  "kernelspec": {
   "display_name": "Python 3 (ipykernel)",
   "language": "python",
   "name": "python3"
  },
  "language_info": {
   "codemirror_mode": {
    "name": "ipython",
    "version": 3
   },
   "file_extension": ".py",
   "mimetype": "text/x-python",
   "name": "python",
   "nbconvert_exporter": "python",
   "pygments_lexer": "ipython3",
   "version": "3.9.12"
  }
 },
 "nbformat": 4,
 "nbformat_minor": 5
}
